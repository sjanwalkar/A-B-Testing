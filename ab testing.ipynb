{
 "cells": [
  {
   "cell_type": "markdown",
   "id": "1311f771",
   "metadata": {},
   "source": [
    "# A/B Testing"
   ]
  },
  {
   "cell_type": "markdown",
   "id": "68697abf",
   "metadata": {},
   "source": [
    "Business Requirement:                                                                                        \n",
    "To check whether the new page increases the conversion rate by 3%                                                 \n",
    "Assusmption: old page conversion rate = 12%, new page conversion rate = 15%"
   ]
  },
  {
   "cell_type": "markdown",
   "id": "461039af",
   "metadata": {},
   "source": [
    "Hypothesis:                                                                                                     \n",
    "Null Hypothesis :  conversion rate for both groups is same                                                        \n",
    "Alternate Hypothesis :  conversion rates are different"
   ]
  },
  {
   "cell_type": "code",
   "execution_count": 1,
   "id": "3c07e3fb",
   "metadata": {},
   "outputs": [],
   "source": [
    "# Importing libraries\n",
    "import numpy as np\n",
    "import pandas as pd\n",
    "import scipy.stats as stats\n",
    "import statsmodels.stats.api as sms\n",
    "import matplotlib.pyplot as plt\n",
    "import seaborn as sns\n",
    "from math import ceil\n",
    "import datetime\n",
    "from scipy.stats import chi2_contingency, beta\n",
    "from statsmodels.stats.proportion import proportions_ztest, proportion_confint"
   ]
  },
  {
   "cell_type": "code",
   "execution_count": 2,
   "id": "1d5eff52",
   "metadata": {},
   "outputs": [
    {
     "name": "stdout",
     "output_type": "stream",
     "text": [
      "Sample size required for each group: 2719\n"
     ]
    }
   ],
   "source": [
    "# Choosing the smaple size\n",
    "\"\"\"\n",
    "Factors to consider:\n",
    "alpha(critical value) : 0.05 to set 95% confidence Interval\n",
    "effect size : 3%, as we require a 3% hike in the conversion rate\n",
    "power of test(1-B): 0.9, means if there exists a difference between old and new page we have 90% chance of detecting it with this smaple size\n",
    "\"\"\"\n",
    "effect_size = sms.proportion_effectsize(0.12,0.15)\n",
    "required_n = sms.NormalIndPower().solve_power(\n",
    "    effect_size,\n",
    "    power= 0.9,\n",
    "    alpha=0.05,\n",
    "    ratio=1\n",
    ")\n",
    "print('Sample size required for each group:',ceil(required_n))"
   ]
  },
  {
   "cell_type": "code",
   "execution_count": 3,
   "id": "628e7fcb",
   "metadata": {},
   "outputs": [
    {
     "data": {
      "text/html": [
       "<div>\n",
       "<style scoped>\n",
       "    .dataframe tbody tr th:only-of-type {\n",
       "        vertical-align: middle;\n",
       "    }\n",
       "\n",
       "    .dataframe tbody tr th {\n",
       "        vertical-align: top;\n",
       "    }\n",
       "\n",
       "    .dataframe thead th {\n",
       "        text-align: right;\n",
       "    }\n",
       "</style>\n",
       "<table border=\"1\" class=\"dataframe\">\n",
       "  <thead>\n",
       "    <tr style=\"text-align: right;\">\n",
       "      <th></th>\n",
       "      <th>user_id</th>\n",
       "      <th>timestamp</th>\n",
       "      <th>group</th>\n",
       "      <th>landing_page</th>\n",
       "      <th>converted</th>\n",
       "    </tr>\n",
       "  </thead>\n",
       "  <tbody>\n",
       "    <tr>\n",
       "      <th>0</th>\n",
       "      <td>851104</td>\n",
       "      <td>2017-01-21 22:11:48.556739</td>\n",
       "      <td>control</td>\n",
       "      <td>old_page</td>\n",
       "      <td>0</td>\n",
       "    </tr>\n",
       "    <tr>\n",
       "      <th>1</th>\n",
       "      <td>804228</td>\n",
       "      <td>2017-01-12 08:01:45.159739</td>\n",
       "      <td>control</td>\n",
       "      <td>old_page</td>\n",
       "      <td>0</td>\n",
       "    </tr>\n",
       "    <tr>\n",
       "      <th>2</th>\n",
       "      <td>661590</td>\n",
       "      <td>2017-01-11 16:55:06.154213</td>\n",
       "      <td>treatment</td>\n",
       "      <td>new_page</td>\n",
       "      <td>0</td>\n",
       "    </tr>\n",
       "    <tr>\n",
       "      <th>3</th>\n",
       "      <td>853541</td>\n",
       "      <td>2017-01-08 18:28:03.143765</td>\n",
       "      <td>treatment</td>\n",
       "      <td>new_page</td>\n",
       "      <td>0</td>\n",
       "    </tr>\n",
       "    <tr>\n",
       "      <th>4</th>\n",
       "      <td>864975</td>\n",
       "      <td>2017-01-21 01:52:26.210827</td>\n",
       "      <td>control</td>\n",
       "      <td>old_page</td>\n",
       "      <td>1</td>\n",
       "    </tr>\n",
       "  </tbody>\n",
       "</table>\n",
       "</div>"
      ],
      "text/plain": [
       "   user_id                   timestamp      group landing_page  converted\n",
       "0   851104  2017-01-21 22:11:48.556739    control     old_page          0\n",
       "1   804228  2017-01-12 08:01:45.159739    control     old_page          0\n",
       "2   661590  2017-01-11 16:55:06.154213  treatment     new_page          0\n",
       "3   853541  2017-01-08 18:28:03.143765  treatment     new_page          0\n",
       "4   864975  2017-01-21 01:52:26.210827    control     old_page          1"
      ]
     },
     "execution_count": 3,
     "metadata": {},
     "output_type": "execute_result"
    }
   ],
   "source": [
    "# Reading the data\n",
    "data = pd.read_csv('ab_data.csv')\n",
    "data.head()"
   ]
  },
  {
   "cell_type": "code",
   "execution_count": 4,
   "id": "40ded66c",
   "metadata": {},
   "outputs": [
    {
     "data": {
      "text/html": [
       "<div>\n",
       "<style scoped>\n",
       "    .dataframe tbody tr th:only-of-type {\n",
       "        vertical-align: middle;\n",
       "    }\n",
       "\n",
       "    .dataframe tbody tr th {\n",
       "        vertical-align: top;\n",
       "    }\n",
       "\n",
       "    .dataframe thead th {\n",
       "        text-align: right;\n",
       "    }\n",
       "</style>\n",
       "<table border=\"1\" class=\"dataframe\">\n",
       "  <thead>\n",
       "    <tr style=\"text-align: right;\">\n",
       "      <th></th>\n",
       "      <th>group</th>\n",
       "      <th>user_id</th>\n",
       "      <th>timestamp</th>\n",
       "      <th>landing_page</th>\n",
       "      <th>converted</th>\n",
       "    </tr>\n",
       "  </thead>\n",
       "  <tbody>\n",
       "    <tr>\n",
       "      <th>0</th>\n",
       "      <td>control</td>\n",
       "      <td>147202</td>\n",
       "      <td>147202</td>\n",
       "      <td>147202</td>\n",
       "      <td>147202</td>\n",
       "    </tr>\n",
       "    <tr>\n",
       "      <th>1</th>\n",
       "      <td>treatment</td>\n",
       "      <td>147276</td>\n",
       "      <td>147276</td>\n",
       "      <td>147276</td>\n",
       "      <td>147276</td>\n",
       "    </tr>\n",
       "  </tbody>\n",
       "</table>\n",
       "</div>"
      ],
      "text/plain": [
       "       group  user_id  timestamp  landing_page  converted\n",
       "0    control   147202     147202        147202     147202\n",
       "1  treatment   147276     147276        147276     147276"
      ]
     },
     "execution_count": 4,
     "metadata": {},
     "output_type": "execute_result"
    }
   ],
   "source": [
    "data.groupby('group').count().reset_index()"
   ]
  },
  {
   "cell_type": "code",
   "execution_count": 5,
   "id": "6f00724f",
   "metadata": {},
   "outputs": [
    {
     "data": {
      "text/html": [
       "<div>\n",
       "<style scoped>\n",
       "    .dataframe tbody tr th:only-of-type {\n",
       "        vertical-align: middle;\n",
       "    }\n",
       "\n",
       "    .dataframe tbody tr th {\n",
       "        vertical-align: top;\n",
       "    }\n",
       "\n",
       "    .dataframe thead th {\n",
       "        text-align: right;\n",
       "    }\n",
       "</style>\n",
       "<table border=\"1\" class=\"dataframe\">\n",
       "  <thead>\n",
       "    <tr style=\"text-align: right;\">\n",
       "      <th></th>\n",
       "      <th>group</th>\n",
       "      <th>landing_page</th>\n",
       "      <th>user_id</th>\n",
       "      <th>timestamp</th>\n",
       "      <th>converted</th>\n",
       "    </tr>\n",
       "  </thead>\n",
       "  <tbody>\n",
       "    <tr>\n",
       "      <th>0</th>\n",
       "      <td>control</td>\n",
       "      <td>new_page</td>\n",
       "      <td>1928</td>\n",
       "      <td>1928</td>\n",
       "      <td>1928</td>\n",
       "    </tr>\n",
       "    <tr>\n",
       "      <th>1</th>\n",
       "      <td>control</td>\n",
       "      <td>old_page</td>\n",
       "      <td>145274</td>\n",
       "      <td>145274</td>\n",
       "      <td>145274</td>\n",
       "    </tr>\n",
       "    <tr>\n",
       "      <th>2</th>\n",
       "      <td>treatment</td>\n",
       "      <td>new_page</td>\n",
       "      <td>145311</td>\n",
       "      <td>145311</td>\n",
       "      <td>145311</td>\n",
       "    </tr>\n",
       "    <tr>\n",
       "      <th>3</th>\n",
       "      <td>treatment</td>\n",
       "      <td>old_page</td>\n",
       "      <td>1965</td>\n",
       "      <td>1965</td>\n",
       "      <td>1965</td>\n",
       "    </tr>\n",
       "  </tbody>\n",
       "</table>\n",
       "</div>"
      ],
      "text/plain": [
       "       group landing_page  user_id  timestamp  converted\n",
       "0    control     new_page     1928       1928       1928\n",
       "1    control     old_page   145274     145274     145274\n",
       "2  treatment     new_page   145311     145311     145311\n",
       "3  treatment     old_page     1965       1965       1965"
      ]
     },
     "execution_count": 5,
     "metadata": {},
     "output_type": "execute_result"
    }
   ],
   "source": [
    "data.groupby(['group','landing_page']).count().reset_index()"
   ]
  },
  {
   "cell_type": "code",
   "execution_count": 6,
   "id": "7c49721b",
   "metadata": {},
   "outputs": [
    {
     "data": {
      "text/plain": [
       "False    286690\n",
       "True       3894\n",
       "Name: user_id, dtype: int64"
      ]
     },
     "execution_count": 6,
     "metadata": {},
     "output_type": "execute_result"
    }
   ],
   "source": [
    "# Repeated users\n",
    "user_count=data['user_id'].value_counts()>1\n",
    "user_count.value_counts()"
   ]
  },
  {
   "cell_type": "code",
   "execution_count": 7,
   "id": "f599c8d4",
   "metadata": {},
   "outputs": [
    {
     "data": {
      "text/plain": [
       "1.3223398691922683"
      ]
     },
     "execution_count": 7,
     "metadata": {},
     "output_type": "execute_result"
    }
   ],
   "source": [
    "# Number 0f repeted users\n",
    "(1-(data['user_id'].nunique()/data['user_id'].count()))*100"
   ]
  },
  {
   "cell_type": "code",
   "execution_count": 8,
   "id": "e2a9267d",
   "metadata": {},
   "outputs": [],
   "source": [
    "# Removing Repeated users\n",
    "data.drop_duplicates(subset='user_id',inplace=True)"
   ]
  },
  {
   "cell_type": "code",
   "execution_count": 9,
   "id": "d97c96a5",
   "metadata": {},
   "outputs": [
    {
     "data": {
      "text/html": [
       "<div>\n",
       "<style scoped>\n",
       "    .dataframe tbody tr th:only-of-type {\n",
       "        vertical-align: middle;\n",
       "    }\n",
       "\n",
       "    .dataframe tbody tr th {\n",
       "        vertical-align: top;\n",
       "    }\n",
       "\n",
       "    .dataframe thead th {\n",
       "        text-align: right;\n",
       "    }\n",
       "</style>\n",
       "<table border=\"1\" class=\"dataframe\">\n",
       "  <thead>\n",
       "    <tr style=\"text-align: right;\">\n",
       "      <th></th>\n",
       "      <th>user_id</th>\n",
       "      <th>timestamp</th>\n",
       "      <th>group</th>\n",
       "      <th>landing_page</th>\n",
       "      <th>converted</th>\n",
       "      <th>date</th>\n",
       "      <th>time</th>\n",
       "    </tr>\n",
       "  </thead>\n",
       "  <tbody>\n",
       "    <tr>\n",
       "      <th>0</th>\n",
       "      <td>851104</td>\n",
       "      <td>2017-01-21 22:11:48.556739</td>\n",
       "      <td>control</td>\n",
       "      <td>old_page</td>\n",
       "      <td>0</td>\n",
       "      <td>2017-01-21</td>\n",
       "      <td>22:11:48.556739</td>\n",
       "    </tr>\n",
       "    <tr>\n",
       "      <th>1</th>\n",
       "      <td>804228</td>\n",
       "      <td>2017-01-12 08:01:45.159739</td>\n",
       "      <td>control</td>\n",
       "      <td>old_page</td>\n",
       "      <td>0</td>\n",
       "      <td>2017-01-12</td>\n",
       "      <td>08:01:45.159739</td>\n",
       "    </tr>\n",
       "    <tr>\n",
       "      <th>2</th>\n",
       "      <td>661590</td>\n",
       "      <td>2017-01-11 16:55:06.154213</td>\n",
       "      <td>treatment</td>\n",
       "      <td>new_page</td>\n",
       "      <td>0</td>\n",
       "      <td>2017-01-11</td>\n",
       "      <td>16:55:06.154213</td>\n",
       "    </tr>\n",
       "    <tr>\n",
       "      <th>3</th>\n",
       "      <td>853541</td>\n",
       "      <td>2017-01-08 18:28:03.143765</td>\n",
       "      <td>treatment</td>\n",
       "      <td>new_page</td>\n",
       "      <td>0</td>\n",
       "      <td>2017-01-08</td>\n",
       "      <td>18:28:03.143765</td>\n",
       "    </tr>\n",
       "    <tr>\n",
       "      <th>4</th>\n",
       "      <td>864975</td>\n",
       "      <td>2017-01-21 01:52:26.210827</td>\n",
       "      <td>control</td>\n",
       "      <td>old_page</td>\n",
       "      <td>1</td>\n",
       "      <td>2017-01-21</td>\n",
       "      <td>01:52:26.210827</td>\n",
       "    </tr>\n",
       "    <tr>\n",
       "      <th>...</th>\n",
       "      <td>...</td>\n",
       "      <td>...</td>\n",
       "      <td>...</td>\n",
       "      <td>...</td>\n",
       "      <td>...</td>\n",
       "      <td>...</td>\n",
       "      <td>...</td>\n",
       "    </tr>\n",
       "    <tr>\n",
       "      <th>294473</th>\n",
       "      <td>751197</td>\n",
       "      <td>2017-01-03 22:28:38.630509</td>\n",
       "      <td>control</td>\n",
       "      <td>old_page</td>\n",
       "      <td>0</td>\n",
       "      <td>2017-01-03</td>\n",
       "      <td>22:28:38.630509</td>\n",
       "    </tr>\n",
       "    <tr>\n",
       "      <th>294474</th>\n",
       "      <td>945152</td>\n",
       "      <td>2017-01-12 00:51:57.078372</td>\n",
       "      <td>control</td>\n",
       "      <td>old_page</td>\n",
       "      <td>0</td>\n",
       "      <td>2017-01-12</td>\n",
       "      <td>00:51:57.078372</td>\n",
       "    </tr>\n",
       "    <tr>\n",
       "      <th>294475</th>\n",
       "      <td>734608</td>\n",
       "      <td>2017-01-22 11:45:03.439544</td>\n",
       "      <td>control</td>\n",
       "      <td>old_page</td>\n",
       "      <td>0</td>\n",
       "      <td>2017-01-22</td>\n",
       "      <td>11:45:03.439544</td>\n",
       "    </tr>\n",
       "    <tr>\n",
       "      <th>294476</th>\n",
       "      <td>697314</td>\n",
       "      <td>2017-01-15 01:20:28.957438</td>\n",
       "      <td>control</td>\n",
       "      <td>old_page</td>\n",
       "      <td>0</td>\n",
       "      <td>2017-01-15</td>\n",
       "      <td>01:20:28.957438</td>\n",
       "    </tr>\n",
       "    <tr>\n",
       "      <th>294477</th>\n",
       "      <td>715931</td>\n",
       "      <td>2017-01-16 12:40:24.467417</td>\n",
       "      <td>treatment</td>\n",
       "      <td>new_page</td>\n",
       "      <td>0</td>\n",
       "      <td>2017-01-16</td>\n",
       "      <td>12:40:24.467417</td>\n",
       "    </tr>\n",
       "  </tbody>\n",
       "</table>\n",
       "<p>290584 rows × 7 columns</p>\n",
       "</div>"
      ],
      "text/plain": [
       "        user_id                   timestamp  ...        date             time\n",
       "0        851104  2017-01-21 22:11:48.556739  ...  2017-01-21  22:11:48.556739\n",
       "1        804228  2017-01-12 08:01:45.159739  ...  2017-01-12  08:01:45.159739\n",
       "2        661590  2017-01-11 16:55:06.154213  ...  2017-01-11  16:55:06.154213\n",
       "3        853541  2017-01-08 18:28:03.143765  ...  2017-01-08  18:28:03.143765\n",
       "4        864975  2017-01-21 01:52:26.210827  ...  2017-01-21  01:52:26.210827\n",
       "...         ...                         ...  ...         ...              ...\n",
       "294473   751197  2017-01-03 22:28:38.630509  ...  2017-01-03  22:28:38.630509\n",
       "294474   945152  2017-01-12 00:51:57.078372  ...  2017-01-12  00:51:57.078372\n",
       "294475   734608  2017-01-22 11:45:03.439544  ...  2017-01-22  11:45:03.439544\n",
       "294476   697314  2017-01-15 01:20:28.957438  ...  2017-01-15  01:20:28.957438\n",
       "294477   715931  2017-01-16 12:40:24.467417  ...  2017-01-16  12:40:24.467417\n",
       "\n",
       "[290584 rows x 7 columns]"
      ]
     },
     "execution_count": 9,
     "metadata": {},
     "output_type": "execute_result"
    }
   ],
   "source": [
    "data[['date','time']]=data['timestamp'].str.split(' ', expand=True)\n",
    "data"
   ]
  },
  {
   "cell_type": "code",
   "execution_count": 74,
   "id": "0e49431e",
   "metadata": {},
   "outputs": [
    {
     "data": {
      "text/plain": [
       "pandas.core.series.Series"
      ]
     },
     "execution_count": 74,
     "metadata": {},
     "output_type": "execute_result"
    }
   ],
   "source": [
    "data['date']"
   ]
  },
  {
   "cell_type": "code",
   "execution_count": 10,
   "id": "7ff0273f",
   "metadata": {},
   "outputs": [
    {
     "data": {
      "text/html": [
       "<div>\n",
       "<style scoped>\n",
       "    .dataframe tbody tr th:only-of-type {\n",
       "        vertical-align: middle;\n",
       "    }\n",
       "\n",
       "    .dataframe tbody tr th {\n",
       "        vertical-align: top;\n",
       "    }\n",
       "\n",
       "    .dataframe thead th {\n",
       "        text-align: right;\n",
       "    }\n",
       "</style>\n",
       "<table border=\"1\" class=\"dataframe\">\n",
       "  <thead>\n",
       "    <tr style=\"text-align: right;\">\n",
       "      <th></th>\n",
       "      <th>user_id</th>\n",
       "      <th>timestamp</th>\n",
       "      <th>group</th>\n",
       "      <th>landing_page</th>\n",
       "      <th>converted</th>\n",
       "      <th>date</th>\n",
       "      <th>time</th>\n",
       "      <th>week</th>\n",
       "    </tr>\n",
       "  </thead>\n",
       "  <tbody>\n",
       "    <tr>\n",
       "      <th>0</th>\n",
       "      <td>851104</td>\n",
       "      <td>2017-01-21 22:11:48.556739</td>\n",
       "      <td>control</td>\n",
       "      <td>old_page</td>\n",
       "      <td>0</td>\n",
       "      <td>2017-01-21</td>\n",
       "      <td>22:11:48.556739</td>\n",
       "      <td>3</td>\n",
       "    </tr>\n",
       "    <tr>\n",
       "      <th>1</th>\n",
       "      <td>804228</td>\n",
       "      <td>2017-01-12 08:01:45.159739</td>\n",
       "      <td>control</td>\n",
       "      <td>old_page</td>\n",
       "      <td>0</td>\n",
       "      <td>2017-01-12</td>\n",
       "      <td>08:01:45.159739</td>\n",
       "      <td>2</td>\n",
       "    </tr>\n",
       "    <tr>\n",
       "      <th>2</th>\n",
       "      <td>661590</td>\n",
       "      <td>2017-01-11 16:55:06.154213</td>\n",
       "      <td>treatment</td>\n",
       "      <td>new_page</td>\n",
       "      <td>0</td>\n",
       "      <td>2017-01-11</td>\n",
       "      <td>16:55:06.154213</td>\n",
       "      <td>2</td>\n",
       "    </tr>\n",
       "    <tr>\n",
       "      <th>3</th>\n",
       "      <td>853541</td>\n",
       "      <td>2017-01-08 18:28:03.143765</td>\n",
       "      <td>treatment</td>\n",
       "      <td>new_page</td>\n",
       "      <td>0</td>\n",
       "      <td>2017-01-08</td>\n",
       "      <td>18:28:03.143765</td>\n",
       "      <td>1</td>\n",
       "    </tr>\n",
       "    <tr>\n",
       "      <th>4</th>\n",
       "      <td>864975</td>\n",
       "      <td>2017-01-21 01:52:26.210827</td>\n",
       "      <td>control</td>\n",
       "      <td>old_page</td>\n",
       "      <td>1</td>\n",
       "      <td>2017-01-21</td>\n",
       "      <td>01:52:26.210827</td>\n",
       "      <td>3</td>\n",
       "    </tr>\n",
       "    <tr>\n",
       "      <th>...</th>\n",
       "      <td>...</td>\n",
       "      <td>...</td>\n",
       "      <td>...</td>\n",
       "      <td>...</td>\n",
       "      <td>...</td>\n",
       "      <td>...</td>\n",
       "      <td>...</td>\n",
       "      <td>...</td>\n",
       "    </tr>\n",
       "    <tr>\n",
       "      <th>294473</th>\n",
       "      <td>751197</td>\n",
       "      <td>2017-01-03 22:28:38.630509</td>\n",
       "      <td>control</td>\n",
       "      <td>old_page</td>\n",
       "      <td>0</td>\n",
       "      <td>2017-01-03</td>\n",
       "      <td>22:28:38.630509</td>\n",
       "      <td>1</td>\n",
       "    </tr>\n",
       "    <tr>\n",
       "      <th>294474</th>\n",
       "      <td>945152</td>\n",
       "      <td>2017-01-12 00:51:57.078372</td>\n",
       "      <td>control</td>\n",
       "      <td>old_page</td>\n",
       "      <td>0</td>\n",
       "      <td>2017-01-12</td>\n",
       "      <td>00:51:57.078372</td>\n",
       "      <td>2</td>\n",
       "    </tr>\n",
       "    <tr>\n",
       "      <th>294475</th>\n",
       "      <td>734608</td>\n",
       "      <td>2017-01-22 11:45:03.439544</td>\n",
       "      <td>control</td>\n",
       "      <td>old_page</td>\n",
       "      <td>0</td>\n",
       "      <td>2017-01-22</td>\n",
       "      <td>11:45:03.439544</td>\n",
       "      <td>3</td>\n",
       "    </tr>\n",
       "    <tr>\n",
       "      <th>294476</th>\n",
       "      <td>697314</td>\n",
       "      <td>2017-01-15 01:20:28.957438</td>\n",
       "      <td>control</td>\n",
       "      <td>old_page</td>\n",
       "      <td>0</td>\n",
       "      <td>2017-01-15</td>\n",
       "      <td>01:20:28.957438</td>\n",
       "      <td>2</td>\n",
       "    </tr>\n",
       "    <tr>\n",
       "      <th>294477</th>\n",
       "      <td>715931</td>\n",
       "      <td>2017-01-16 12:40:24.467417</td>\n",
       "      <td>treatment</td>\n",
       "      <td>new_page</td>\n",
       "      <td>0</td>\n",
       "      <td>2017-01-16</td>\n",
       "      <td>12:40:24.467417</td>\n",
       "      <td>3</td>\n",
       "    </tr>\n",
       "  </tbody>\n",
       "</table>\n",
       "<p>290584 rows × 8 columns</p>\n",
       "</div>"
      ],
      "text/plain": [
       "        user_id                   timestamp  ...             time week\n",
       "0        851104  2017-01-21 22:11:48.556739  ...  22:11:48.556739    3\n",
       "1        804228  2017-01-12 08:01:45.159739  ...  08:01:45.159739    2\n",
       "2        661590  2017-01-11 16:55:06.154213  ...  16:55:06.154213    2\n",
       "3        853541  2017-01-08 18:28:03.143765  ...  18:28:03.143765    1\n",
       "4        864975  2017-01-21 01:52:26.210827  ...  01:52:26.210827    3\n",
       "...         ...                         ...  ...              ...  ...\n",
       "294473   751197  2017-01-03 22:28:38.630509  ...  22:28:38.630509    1\n",
       "294474   945152  2017-01-12 00:51:57.078372  ...  00:51:57.078372    2\n",
       "294475   734608  2017-01-22 11:45:03.439544  ...  11:45:03.439544    3\n",
       "294476   697314  2017-01-15 01:20:28.957438  ...  01:20:28.957438    2\n",
       "294477   715931  2017-01-16 12:40:24.467417  ...  12:40:24.467417    3\n",
       "\n",
       "[290584 rows x 8 columns]"
      ]
     },
     "execution_count": 10,
     "metadata": {},
     "output_type": "execute_result"
    }
   ],
   "source": [
    "data['week'] = data['date'].apply(lambda x: datetime.datetime.strptime(x,'%Y-%m-%d').isocalendar()[1])\n",
    "data"
   ]
  },
  {
   "cell_type": "code",
   "execution_count": 11,
   "id": "12c2b385",
   "metadata": {},
   "outputs": [
    {
     "data": {
      "text/plain": [
       "2    92620\n",
       "3    92300\n",
       "1    84882\n",
       "4    20782\n",
       "Name: week, dtype: int64"
      ]
     },
     "execution_count": 11,
     "metadata": {},
     "output_type": "execute_result"
    }
   ],
   "source": [
    "data['week'].value_counts()"
   ]
  },
  {
   "cell_type": "markdown",
   "id": "71e28cb9",
   "metadata": {},
   "source": [
    "## Frequentist approach"
   ]
  },
  {
   "cell_type": "code",
   "execution_count": 12,
   "id": "02064b8e",
   "metadata": {},
   "outputs": [
    {
     "name": "stdout",
     "output_type": "stream",
     "text": [
      "Control group conversion rate: 12.03\n",
      "Test group conversion rate: 11.884\n",
      "Lift: -0.146\n"
     ]
    }
   ],
   "source": [
    "# Getting the conversion rate of Control and Test group\n",
    "weeks = 4\n",
    "control_group = data.loc[(data['group']=='control') & (data['week']<=weeks)]\n",
    "test_group = data.loc[(data['group']=='treatment') & (data['week']<=weeks)]\n",
    "\n",
    "control_conversion_rate = round(control_group['converted'].sum()*100/control_group['converted'].count(),3)\n",
    "test_conversion_rate = round(test_group['converted'].sum()*100/test_group['converted'].count(),3)\n",
    "\n",
    "print('Control group conversion rate:',control_conversion_rate)\n",
    "print('Test group conversion rate:', test_conversion_rate)\n",
    "print('Lift:',round(test_conversion_rate-control_conversion_rate,3))"
   ]
  },
  {
   "cell_type": "markdown",
   "id": "df94ec08",
   "metadata": {},
   "source": [
    "To check the whether this means(conversion rate) obtained from the sample data are statistically significant in case of population data "
   ]
  },
  {
   "cell_type": "code",
   "execution_count": 13,
   "id": "275a0a7c",
   "metadata": {},
   "outputs": [
    {
     "data": {
      "text/html": [
       "<div>\n",
       "<style scoped>\n",
       "    .dataframe tbody tr th:only-of-type {\n",
       "        vertical-align: middle;\n",
       "    }\n",
       "\n",
       "    .dataframe tbody tr th {\n",
       "        vertical-align: top;\n",
       "    }\n",
       "\n",
       "    .dataframe thead th {\n",
       "        text-align: right;\n",
       "    }\n",
       "</style>\n",
       "<table border=\"1\" class=\"dataframe\">\n",
       "  <thead>\n",
       "    <tr style=\"text-align: right;\">\n",
       "      <th></th>\n",
       "      <th>user_id</th>\n",
       "      <th>timestamp</th>\n",
       "      <th>group</th>\n",
       "      <th>landing_page</th>\n",
       "      <th>converted</th>\n",
       "      <th>date</th>\n",
       "      <th>time</th>\n",
       "      <th>week</th>\n",
       "    </tr>\n",
       "  </thead>\n",
       "  <tbody>\n",
       "    <tr>\n",
       "      <th>0</th>\n",
       "      <td>851104</td>\n",
       "      <td>2017-01-21 22:11:48.556739</td>\n",
       "      <td>control</td>\n",
       "      <td>old_page</td>\n",
       "      <td>0</td>\n",
       "      <td>2017-01-21</td>\n",
       "      <td>22:11:48.556739</td>\n",
       "      <td>3</td>\n",
       "    </tr>\n",
       "    <tr>\n",
       "      <th>1</th>\n",
       "      <td>804228</td>\n",
       "      <td>2017-01-12 08:01:45.159739</td>\n",
       "      <td>control</td>\n",
       "      <td>old_page</td>\n",
       "      <td>0</td>\n",
       "      <td>2017-01-12</td>\n",
       "      <td>08:01:45.159739</td>\n",
       "      <td>2</td>\n",
       "    </tr>\n",
       "    <tr>\n",
       "      <th>4</th>\n",
       "      <td>864975</td>\n",
       "      <td>2017-01-21 01:52:26.210827</td>\n",
       "      <td>control</td>\n",
       "      <td>old_page</td>\n",
       "      <td>1</td>\n",
       "      <td>2017-01-21</td>\n",
       "      <td>01:52:26.210827</td>\n",
       "      <td>3</td>\n",
       "    </tr>\n",
       "    <tr>\n",
       "      <th>5</th>\n",
       "      <td>936923</td>\n",
       "      <td>2017-01-10 15:20:49.083499</td>\n",
       "      <td>control</td>\n",
       "      <td>old_page</td>\n",
       "      <td>0</td>\n",
       "      <td>2017-01-10</td>\n",
       "      <td>15:20:49.083499</td>\n",
       "      <td>2</td>\n",
       "    </tr>\n",
       "    <tr>\n",
       "      <th>7</th>\n",
       "      <td>719014</td>\n",
       "      <td>2017-01-17 01:48:29.539573</td>\n",
       "      <td>control</td>\n",
       "      <td>old_page</td>\n",
       "      <td>0</td>\n",
       "      <td>2017-01-17</td>\n",
       "      <td>01:48:29.539573</td>\n",
       "      <td>3</td>\n",
       "    </tr>\n",
       "    <tr>\n",
       "      <th>...</th>\n",
       "      <td>...</td>\n",
       "      <td>...</td>\n",
       "      <td>...</td>\n",
       "      <td>...</td>\n",
       "      <td>...</td>\n",
       "      <td>...</td>\n",
       "      <td>...</td>\n",
       "      <td>...</td>\n",
       "    </tr>\n",
       "    <tr>\n",
       "      <th>294471</th>\n",
       "      <td>718310</td>\n",
       "      <td>2017-01-21 22:44:20.378320</td>\n",
       "      <td>control</td>\n",
       "      <td>old_page</td>\n",
       "      <td>0</td>\n",
       "      <td>2017-01-21</td>\n",
       "      <td>22:44:20.378320</td>\n",
       "      <td>3</td>\n",
       "    </tr>\n",
       "    <tr>\n",
       "      <th>294473</th>\n",
       "      <td>751197</td>\n",
       "      <td>2017-01-03 22:28:38.630509</td>\n",
       "      <td>control</td>\n",
       "      <td>old_page</td>\n",
       "      <td>0</td>\n",
       "      <td>2017-01-03</td>\n",
       "      <td>22:28:38.630509</td>\n",
       "      <td>1</td>\n",
       "    </tr>\n",
       "    <tr>\n",
       "      <th>294474</th>\n",
       "      <td>945152</td>\n",
       "      <td>2017-01-12 00:51:57.078372</td>\n",
       "      <td>control</td>\n",
       "      <td>old_page</td>\n",
       "      <td>0</td>\n",
       "      <td>2017-01-12</td>\n",
       "      <td>00:51:57.078372</td>\n",
       "      <td>2</td>\n",
       "    </tr>\n",
       "    <tr>\n",
       "      <th>294475</th>\n",
       "      <td>734608</td>\n",
       "      <td>2017-01-22 11:45:03.439544</td>\n",
       "      <td>control</td>\n",
       "      <td>old_page</td>\n",
       "      <td>0</td>\n",
       "      <td>2017-01-22</td>\n",
       "      <td>11:45:03.439544</td>\n",
       "      <td>3</td>\n",
       "    </tr>\n",
       "    <tr>\n",
       "      <th>294476</th>\n",
       "      <td>697314</td>\n",
       "      <td>2017-01-15 01:20:28.957438</td>\n",
       "      <td>control</td>\n",
       "      <td>old_page</td>\n",
       "      <td>0</td>\n",
       "      <td>2017-01-15</td>\n",
       "      <td>01:20:28.957438</td>\n",
       "      <td>2</td>\n",
       "    </tr>\n",
       "  </tbody>\n",
       "</table>\n",
       "<p>145232 rows × 8 columns</p>\n",
       "</div>"
      ],
      "text/plain": [
       "        user_id                   timestamp  ...             time week\n",
       "0        851104  2017-01-21 22:11:48.556739  ...  22:11:48.556739    3\n",
       "1        804228  2017-01-12 08:01:45.159739  ...  08:01:45.159739    2\n",
       "4        864975  2017-01-21 01:52:26.210827  ...  01:52:26.210827    3\n",
       "5        936923  2017-01-10 15:20:49.083499  ...  15:20:49.083499    2\n",
       "7        719014  2017-01-17 01:48:29.539573  ...  01:48:29.539573    3\n",
       "...         ...                         ...  ...              ...  ...\n",
       "294471   718310  2017-01-21 22:44:20.378320  ...  22:44:20.378320    3\n",
       "294473   751197  2017-01-03 22:28:38.630509  ...  22:28:38.630509    1\n",
       "294474   945152  2017-01-12 00:51:57.078372  ...  00:51:57.078372    2\n",
       "294475   734608  2017-01-22 11:45:03.439544  ...  11:45:03.439544    3\n",
       "294476   697314  2017-01-15 01:20:28.957438  ...  01:20:28.957438    2\n",
       "\n",
       "[145232 rows x 8 columns]"
      ]
     },
     "execution_count": 13,
     "metadata": {},
     "output_type": "execute_result"
    }
   ],
   "source": [
    "control_group"
   ]
  },
  {
   "cell_type": "code",
   "execution_count": 19,
   "id": "ab26b9f6",
   "metadata": {},
   "outputs": [
    {
     "name": "stdout",
     "output_type": "stream",
     "text": [
      "z statistic: 1.21\n",
      "p-value: 0.227\n",
      "ci 95% for control group: [0.119, 0.122]\n",
      "ci 95% for treatment group: [0.117, 0.121]\n"
     ]
    }
   ],
   "source": [
    "control_count = control_group['converted'].count()\n",
    "test_count = test_group['converted'].count()\n",
    "successes = [control_group['converted'].sum(), test_group['converted'].sum()]\n",
    "nobs=[control_count, test_count]\n",
    "z_stat, pval = proportions_ztest(successes, nobs=nobs)\n",
    "(lower_con, lower_treat), (upper_con, upper_treat) = proportion_confint(successes, nobs=nobs, alpha=0.05)\n",
    "\n",
    "print(f'z statistic: {z_stat:.2f}')\n",
    "print(f'p-value: {pval:.3f}')\n",
    "print(f'ci 95% for control group: [{lower_con:.3f}, {upper_con:.3f}]')\n",
    "print(f'ci 95% for treatment group: [{lower_treat:.3f}, {upper_treat:.3f}]')"
   ]
  },
  {
   "cell_type": "markdown",
   "id": "2f8688d5",
   "metadata": {},
   "source": [
    "Since our p-vaue=0.227 is greater than the significance level alpha(0.05), we cannot reject the null hypothesis and Hence we cannot conclude that the conversion rate between both the web pages is different.                                     \n",
    "Also the CI for both the groups lie between [0.119, 0.122] and [0.117, 0.121] respectively, includes the baseline conversion rate of 12% but dosen't includes 15% . "
   ]
  },
  {
   "cell_type": "markdown",
   "id": "4f36cac5",
   "metadata": {},
   "source": [
    "### Chi Squared"
   ]
  },
  {
   "cell_type": "markdown",
   "id": "32f9bf18",
   "metadata": {},
   "source": [
    "Ho(Null Hypothesis) = Conversion rate is same                                                                     \n",
    "H1(Alternate Hypothesis) = Conversion rate is not the same"
   ]
  },
  {
   "cell_type": "code",
   "execution_count": 96,
   "id": "138cb269",
   "metadata": {},
   "outputs": [],
   "source": [
    "# Creating contingency table for Chi-square test\n",
    "control_converted = control_group['converted'].sum()\n",
    "treatment_converted = test_group['converted'].sum()\n",
    "control_non_converted = control_group['converted'].count() - control_converted\n",
    "treatment_non_converted = test_group['converted'].count() - treatment_converted\n",
    "contingency_table = np.array([[control_converted, control_non_converted], \n",
    "                              [treatment_converted, treatment_non_converted]])"
   ]
  },
  {
   "cell_type": "code",
   "execution_count": 97,
   "id": "3c0a0a4f",
   "metadata": {},
   "outputs": [
    {
     "data": {
      "text/plain": [
       "array([[ 17471, 127761],\n",
       "       [ 17274, 128078]])"
      ]
     },
     "execution_count": 97,
     "metadata": {},
     "output_type": "execute_result"
    }
   ],
   "source": [
    "contingency_table"
   ]
  },
  {
   "cell_type": "code",
   "execution_count": 99,
   "id": "704836d8",
   "metadata": {},
   "outputs": [
    {
     "data": {
      "text/plain": [
       "(1.4601935202954148, 0.22689933216132585)"
      ]
     },
     "execution_count": 99,
     "metadata": {},
     "output_type": "execute_result"
    }
   ],
   "source": [
    "chi, p_value, _, _ = chi2_contingency(contingency_table, correction=False)\n",
    "chi, p_value"
   ]
  },
  {
   "cell_type": "markdown",
   "id": "a3803161",
   "metadata": {},
   "source": [
    "Since the p-value = 0.227 > 0.05, we cannot reject the null hypothesis, Therefore there is no significant difference between the conversion rate of control and test group"
   ]
  },
  {
   "cell_type": "markdown",
   "id": "75a1fa64",
   "metadata": {},
   "source": [
    "There is 22.68% probability that a more extreme chi square that 1.46 can occur by chance"
   ]
  },
  {
   "cell_type": "markdown",
   "id": "c8a3b514",
   "metadata": {},
   "source": [
    "Disadvantage:\n",
    "Difficult to interpret, since it gives the chi square value and to get the correct estimate in terms of conversion rate we need to map chi square to conversion rate"
   ]
  },
  {
   "cell_type": "markdown",
   "id": "52d2b6ac",
   "metadata": {},
   "source": [
    "## Bayesians approach"
   ]
  },
  {
   "cell_type": "markdown",
   "id": "b9faf4d6",
   "metadata": {},
   "source": [
    "Using the 1st weeks data to create prior distribution"
   ]
  },
  {
   "cell_type": "code",
   "execution_count": 101,
   "id": "36a32da7",
   "metadata": {},
   "outputs": [],
   "source": [
    "prior = data[(data['week']==1) & (data['group']=='control')]"
   ]
  },
  {
   "cell_type": "code",
   "execution_count": 104,
   "id": "de40b98d",
   "metadata": {},
   "outputs": [],
   "source": [
    "prior_mean=[]\n",
    "for i in range(0,1000):\n",
    "    prior_mean.append(prior.sample(1000)['converted'].mean())"
   ]
  },
  {
   "cell_type": "code",
   "execution_count": 106,
   "id": "abd4cd90",
   "metadata": {},
   "outputs": [],
   "source": [
    "# Beta Distribution, with 0 mean and 1 sd to get prior alpha and beta\n",
    "prior_alpha, prior_beta, _, _ = beta.fit(prior_mean, floc=0, fscale=1)"
   ]
  },
  {
   "cell_type": "code",
   "execution_count": 109,
   "id": "4caa2695",
   "metadata": {},
   "outputs": [
    {
     "name": "stdout",
     "output_type": "stream",
     "text": [
      "Control group conversion rate: 12.064\n",
      "Test group conversion rate: 11.927\n",
      "Lift: -0.137\n"
     ]
    }
   ],
   "source": [
    "weeks = 4\n",
    "data1 = data.loc[(data['week']>1) & (data['week']<=weeks)]\n",
    "control_group = data1.loc[(data1['group']=='control') & (data1['week']<=weeks)]\n",
    "test_group = data1.loc[(data1['group']=='treatment') & (data1['week']<=weeks)]\n",
    "\n",
    "control_conversion_rate = round(control_group['converted'].sum()*100/control_group['converted'].count(),3)\n",
    "test_conversion_rate = round(test_group['converted'].sum()*100/test_group['converted'].count(),3)\n",
    "\n",
    "print('Control group conversion rate:',control_conversion_rate)\n",
    "print('Test group conversion rate:', test_conversion_rate)\n",
    "print('Lift:',round(test_conversion_rate-control_conversion_rate,3))"
   ]
  },
  {
   "cell_type": "code",
   "execution_count": 120,
   "id": "50b137cc",
   "metadata": {},
   "outputs": [
    {
     "name": "stdout",
     "output_type": "stream",
     "text": [
      "Probability that treatment > control: 17.0%\n"
     ]
    }
   ],
   "source": [
    "control_converted = control_group['converted'].sum()\n",
    "test_converted = test_group['converted'].sum()\n",
    "control_non_converted = control_group['converted'].count() - control_converted\n",
    "test_non_converted = test_group['converted'].count() - test_converted\n",
    "\n",
    "# Updating posterior \n",
    "posterior_control = beta(prior_alpha + control_converted,prior_beta + control_non_converted)\n",
    "posterior_test = beta(prior_alpha + test_converted,prior_beta + test_non_converted)\n",
    "\n",
    "control_samples = posterior_control.rvs(1000)\n",
    "test_samples = posterior_test.rvs(1000)\n",
    "probability = np.mean(test_samples>control_samples)\n",
    "print(f'Probability that treatment > control: {probability * 100}%')"
   ]
  },
  {
   "cell_type": "code",
   "execution_count": 125,
   "id": "fd1df00c",
   "metadata": {},
   "outputs": [
    {
     "name": "stdout",
     "output_type": "stream",
     "text": [
      "Control Posterior: Mean: 0.12062724606912235, Variance: 1.020216176034806e-06\n",
      "Treatment Posterior: Mean: 0.11927237388871918, Variance: 1.0117905720870365e-06\n"
     ]
    }
   ],
   "source": [
    "print(f\"Control Posterior: Mean: {posterior_control.mean()}, Variance: {posterior_control.var()}\") \n",
    "print(f\"Treatment Posterior: Mean: {posterior_test.mean()}, Variance: {posterior_test.var()}\") "
   ]
  },
  {
   "cell_type": "code",
   "execution_count": 130,
   "id": "06a3131e",
   "metadata": {},
   "outputs": [
    {
     "name": "stdout",
     "output_type": "stream",
     "text": [
      "Probability that we are seeing a 2% lift: 0.8%\n"
     ]
    }
   ],
   "source": [
    "lift_percentage = (test_samples - control_samples) / control_samples\n",
    "print(f\"Probability that we are seeing a 2% lift: {np.mean((100 * lift_percentage) > 2) * 100}%\")"
   ]
  }
 ],
 "metadata": {
  "kernelspec": {
   "display_name": "Python 3 (ipykernel)",
   "language": "python",
   "name": "python3"
  },
  "language_info": {
   "codemirror_mode": {
    "name": "ipython",
    "version": 3
   },
   "file_extension": ".py",
   "mimetype": "text/x-python",
   "name": "python",
   "nbconvert_exporter": "python",
   "pygments_lexer": "ipython3",
   "version": "3.9.7"
  }
 },
 "nbformat": 4,
 "nbformat_minor": 5
}
